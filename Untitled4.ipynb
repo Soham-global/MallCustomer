{
  "nbformat": 4,
  "nbformat_minor": 0,
  "metadata": {
    "colab": {
      "provenance": []
    },
    "kernelspec": {
      "name": "python3",
      "display_name": "Python 3"
    },
    "language_info": {
      "name": "python"
    }
  },
  "cells": [
    {
      "cell_type": "code",
      "execution_count": 1,
      "metadata": {
        "id": "DMgCjKxi5Z8u"
      },
      "outputs": [],
      "source": [
        "import pandas as pd\n",
        "import numpy as np"
      ]
    },
    {
      "cell_type": "code",
      "source": [
        "# Loading dataset\n",
        "df = pd.read_csv(\"Mall_Customers.csv\")"
      ],
      "metadata": {
        "id": "Z41H0EhI6XbD"
      },
      "execution_count": 2,
      "outputs": []
    },
    {
      "cell_type": "code",
      "source": [
        "# 1. View initial info\n",
        "print(df.info())\n",
        "print(df.head())"
      ],
      "metadata": {
        "id": "xt2QYlqG6Zhp",
        "colab": {
          "base_uri": "https://localhost:8080/"
        },
        "outputId": "9ced05d5-8566-4349-fe10-077ba78b2d4d"
      },
      "execution_count": 3,
      "outputs": [
        {
          "output_type": "stream",
          "name": "stdout",
          "text": [
            "<class 'pandas.core.frame.DataFrame'>\n",
            "RangeIndex: 200 entries, 0 to 199\n",
            "Data columns (total 5 columns):\n",
            " #   Column                  Non-Null Count  Dtype \n",
            "---  ------                  --------------  ----- \n",
            " 0   CustomerID              200 non-null    int64 \n",
            " 1   Gender                  200 non-null    object\n",
            " 2   Age                     200 non-null    int64 \n",
            " 3   Annual Income (k$)      200 non-null    int64 \n",
            " 4   Spending Score (1-100)  200 non-null    int64 \n",
            "dtypes: int64(4), object(1)\n",
            "memory usage: 7.9+ KB\n",
            "None\n",
            "   CustomerID  Gender  Age  Annual Income (k$)  Spending Score (1-100)\n",
            "0           1    Male   19                  15                      39\n",
            "1           2    Male   21                  15                      81\n",
            "2           3  Female   20                  16                       6\n",
            "3           4  Female   23                  16                      77\n",
            "4           5  Female   31                  17                      40\n"
          ]
        }
      ]
    },
    {
      "cell_type": "code",
      "source": [
        "# 2. Handle missing values\n",
        "df = df.dropna()  # or use df.fillna(method='ffill') if imputation needed"
      ],
      "metadata": {
        "id": "2PO4DMyF6aCg"
      },
      "execution_count": 4,
      "outputs": []
    },
    {
      "cell_type": "code",
      "source": [
        "# 3. Remove duplicates\n",
        "df = df.drop_duplicates()"
      ],
      "metadata": {
        "id": "391E-5xY6aVS"
      },
      "execution_count": 5,
      "outputs": []
    },
    {
      "cell_type": "code",
      "source": [
        "# 4. Standardize text fields\n",
        "df['Gender'] = df['Gender'].str.lower().str.strip()"
      ],
      "metadata": {
        "id": "Pcv7XfOJ6arA"
      },
      "execution_count": 6,
      "outputs": []
    },
    {
      "cell_type": "code",
      "source": [
        "df.columns = [col.strip().lower().replace(\" \", \"_\") for col in df.columns]"
      ],
      "metadata": {
        "id": "spdZHn9Q7dAI"
      },
      "execution_count": 7,
      "outputs": []
    },
    {
      "cell_type": "code",
      "source": [
        "print(\"\\nColumn names after standardization:\", df.columns) #added for debugging\n",
        "df['age'] = df['age'].astype(int)\n",
        "df['annual_income_(k$)'] = df['annual_income_(k$)'].astype(float)\n",
        "df['spending_score_(1-100)'] = df['spending_score_(1-100)'].astype(float)"
      ],
      "metadata": {
        "colab": {
          "base_uri": "https://localhost:8080/"
        },
        "id": "zu8y2FPm7dcJ",
        "outputId": "d005833c-227a-45db-ad98-9b268e61ef3a"
      },
      "execution_count": 10,
      "outputs": [
        {
          "output_type": "stream",
          "name": "stdout",
          "text": [
            "\n",
            "Column names after standardization: Index(['customerid', 'gender', 'age', 'annual_income_(k$)',\n",
            "       'spending_score_(1-100)'],\n",
            "      dtype='object')\n"
          ]
        }
      ]
    },
    {
      "cell_type": "code",
      "source": [
        "df.to_csv(\"Mall_Customers_Cleaned.csv\", index=False)"
      ],
      "metadata": {
        "id": "quMUvtW37dvR"
      },
      "execution_count": 11,
      "outputs": []
    },
    {
      "cell_type": "code",
      "source": [],
      "metadata": {
        "id": "Yhe4o2ob7eBu"
      },
      "execution_count": null,
      "outputs": []
    }
  ]
}